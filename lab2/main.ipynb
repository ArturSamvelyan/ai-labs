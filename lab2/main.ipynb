{
 "cells": [
  {
   "cell_type": "code",
   "execution_count": 10,
   "metadata": {},
   "outputs": [],
   "source": [
    "import numpy as np\n",
    "import matplotlib.pyplot as plt\n",
    "\n",
    "%matplotlib inline"
   ]
  },
  {
   "cell_type": "code",
   "execution_count": 159,
   "metadata": {},
   "outputs": [],
   "source": [
    "class HopfieldNet:\n",
    "    def __init__(self, N, M):\n",
    "        self.N = N\n",
    "        self.M = M\n",
    "        self.W = np.zeros((N, N))\n",
    "    \n",
    "    def F(self, x):\n",
    "        x[x >= 0] = 1\n",
    "        x[x < 0] = -1\n",
    "        return x\n",
    "\n",
    "    def learn(self, train_data):\n",
    "        for x in train_data:\n",
    "            self.W += x @ x.T\n",
    "        self.W = 1/self.N * self.W\n",
    "        for i in range(self.N):\n",
    "            self.W[i][i] = 0\n",
    "\n",
    "    def predict(self, x):\n",
    "        t1 = self.F(self.W @ x)\n",
    "        for i in range(20):\n",
    "            t1 = self.F(self.W @ t1)\n",
    "        return t1\n",
    "        \n"
   ]
  },
  {
   "cell_type": "code",
   "execution_count": 160,
   "metadata": {},
   "outputs": [],
   "source": [
    "hn = HopfieldNet(36, 3)"
   ]
  },
  {
   "cell_type": "code",
   "execution_count": 161,
   "metadata": {},
   "outputs": [],
   "source": [
    "x1 = np.array([\n",
    "    [-1,1,1,1,1,-1],\n",
    "    [-1,1,-1,-1,1,-1],\n",
    "    [-1,1,-1,-1,1,-1],\n",
    "    [-1,1,-1,-1,1,-1],\n",
    "    [1,1,1,1,1,1],\n",
    "    [1,-1,-1,-1,-1,1],\n",
    "])\n",
    "x2 = np.array([\n",
    "    [-1,1,1,1,1,-1],\n",
    "    [-1,1,-1,-1,-1,-1],\n",
    "    [-1,1,-1,-1,-1,-1],\n",
    "    [-1,1,1,1,1,-1],\n",
    "    [-1,1,-1,-1,1,-1],\n",
    "    [-1,1,1,1,1,-1],\n",
    "])\n",
    "x3 = np.array([\n",
    "    [-1,1,-1,-1,1,-1],\n",
    "    [-1,1,-1,1,-1,-1],\n",
    "    [-1,1,1,-1,-1,-1],\n",
    "    [-1,1,-1,1,-1,-1],\n",
    "    [-1,1,-1,-1,1,-1],\n",
    "    [-1,1,-1,-1,1,-1],\n",
    "])"
   ]
  },
  {
   "cell_type": "code",
   "execution_count": 162,
   "metadata": {},
   "outputs": [],
   "source": [
    "x1n = np.array([\n",
    "    [1,1,1,1,1,-1],\n",
    "    [1,1,-1,-1,1,-1],\n",
    "    [-1,-1,-1,-1,1,-1],\n",
    "    [-1,1,-1,-1,1,-1],\n",
    "    [1,1,1,1,1,1],\n",
    "    [1,-1,1,-1,-1,1],\n",
    "])\n",
    "x2n = np.array([\n",
    "    [-1,1,1,1,1,-1],\n",
    "    [-1,1,-1,1,-1,-1],\n",
    "    [-1,1,-1,1,-1,-1],\n",
    "    [1,-1,1,1,1,-1],\n",
    "    [-1,1,-1,-1,1,-1],\n",
    "    [-1,1,1,-1,1,-1],\n",
    "])\n",
    "x3n = np.array([\n",
    "    [-1,1,-1,-1,-1,-1],\n",
    "    [-1,1,-1,1,-1,-1],\n",
    "    [-1,1,1,-1,-1,1],\n",
    "    [-1,1,-1,1,-1,-1],\n",
    "    [-1,1,1,-1,1,-1],\n",
    "    [-1,1,1,-1,1,-1],\n",
    "])"
   ]
  },
  {
   "cell_type": "markdown",
   "metadata": {},
   "source": [
    "### Plot data"
   ]
  },
  {
   "cell_type": "code",
   "execution_count": 163,
   "metadata": {},
   "outputs": [
    {
     "data": {
      "text/plain": [
       "<matplotlib.image.AxesImage at 0x7f61d3f2e1c0>"
      ]
     },
     "execution_count": 163,
     "metadata": {},
     "output_type": "execute_result"
    },
    {
     "data": {
      "image/png": "[encoded data removed]",
      "text/plain": [
       "<Figure size 432x288 with 3 Axes>"
      ]
     },
     "metadata": {
      "needs_background": "light"
     },
     "output_type": "display_data"
    }
   ],
   "source": [
    "fig, (ax1,ax2,ax3) = plt.subplots(1,3)\n",
    "ax1.imshow(x1)\n",
    "ax2.imshow(x2)\n",
    "ax3.imshow(x3)"
   ]
  },
  {
   "cell_type": "markdown",
   "metadata": {},
   "source": [
    "### Plot noisy data"
   ]
  },
  {
   "cell_type": "code",
   "execution_count": 164,
   "metadata": {},
   "outputs": [
    {
     "data": {
      "text/plain": [
       "<matplotlib.image.AxesImage at 0x7f61d3e74be0>"
      ]
     },
     "execution_count": 164,
     "metadata": {},
     "output_type": "execute_result"
    },
    {
     "data": {
      "image/png": "[encoded data removed]",
      "text/plain": [
       "<Figure size 432x288 with 3 Axes>"
      ]
     },
     "metadata": {
      "needs_background": "light"
     },
     "output_type": "display_data"
    }
   ],
   "source": [
    "fig, (ax1,ax2,ax3) = plt.subplots(1,3)\n",
    "ax1.imshow(x1n)\n",
    "ax2.imshow(x2n)\n",
    "ax3.imshow(x3n)"
   ]
  },
  {
   "cell_type": "markdown",
   "metadata": {},
   "source": [
    "### Train"
   ]
  },
  {
   "cell_type": "code",
   "execution_count": 165,
   "metadata": {},
   "outputs": [],
   "source": [
    "train_data = [x.reshape(36,1) for x in [x1, x2, x3]]"
   ]
  },
  {
   "cell_type": "code",
   "execution_count": 166,
   "metadata": {},
   "outputs": [],
   "source": [
    "hn.learn(train_data)"
   ]
  },
  {
   "cell_type": "code",
   "execution_count": 167,
   "metadata": {},
   "outputs": [
    {
     "data": {
      "text/plain": [
       "<matplotlib.image.AxesImage at 0x7f61d3e63f40>"
      ]
     },
     "execution_count": 167,
     "metadata": {},
     "output_type": "execute_result"
    },
    {
     "data": {
      "image/png": "[encoded data removed]",
      "text/plain": [
       "<Figure size 432x288 with 1 Axes>"
      ]
     },
     "metadata": {
      "needs_background": "light"
     },
     "output_type": "display_data"
    }
   ],
   "source": [
    "plt.imshow(hn.W)"
   ]
  },
  {
   "cell_type": "markdown",
   "metadata": {},
   "source": [
    "### Check for WX = X"
   ]
  },
  {
   "cell_type": "code",
   "execution_count": 168,
   "metadata": {},
   "outputs": [],
   "source": [
    "temp = hn.F(hn.W @ x1f)"
   ]
  },
  {
   "cell_type": "code",
   "execution_count": 169,
   "metadata": {},
   "outputs": [
    {
     "data": {
      "text/plain": [
       "<matplotlib.image.AxesImage at 0x7f61d46f6340>"
      ]
     },
     "execution_count": 169,
     "metadata": {},
     "output_type": "execute_result"
    },
    {
     "data": {
      "image/png": "[encoded data removed]",
      "text/plain": [
       "<Figure size 432x288 with 1 Axes>"
      ]
     },
     "metadata": {
      "needs_background": "light"
     },
     "output_type": "display_data"
    }
   ],
   "source": [
    "plt.imshow(temp.reshape(6,6))"
   ]
  },
  {
   "cell_type": "markdown",
   "metadata": {},
   "source": [
    "### Predicting from noisy data"
   ]
  },
  {
   "cell_type": "code",
   "execution_count": 172,
   "metadata": {},
   "outputs": [],
   "source": [
    "x1p = hn.predict(x1n.reshape(36, 1))\n",
    "x2p = hn.predict(x2n.reshape(36, 1))\n",
    "x3p = hn.predict(x3n.reshape(36, 1))"
   ]
  },
  {
   "cell_type": "code",
   "execution_count": 178,
   "metadata": {},
   "outputs": [
    {
     "data": {
      "text/plain": [
       "<matplotlib.image.AxesImage at 0x7f61d36e48b0>"
      ]
     },
     "execution_count": 178,
     "metadata": {},
     "output_type": "execute_result"
    },
    {
     "data": {
      "image/png": "[encoded data removed]",
      "text/plain": [
       "<Figure size 432x288 with 6 Axes>"
      ]
     },
     "metadata": {
      "needs_background": "light"
     },
     "output_type": "display_data"
    }
   ],
   "source": [
    "fig, axs = plt.subplots(2,3)\n",
    "axs[0,0].imshow(x1n)\n",
    "axs[0,1].imshow(x2n)\n",
    "axs[0,2].imshow(x3n)\n",
    "axs[1,0].imshow(x1p.reshape(6,6))\n",
    "axs[1,1].imshow(x2p.reshape(6,6))\n",
    "axs[1,2].imshow(x3p.reshape(6,6))"
   ]
  },
  {
   "cell_type": "code",
   "execution_count": null,
   "metadata": {},
   "outputs": [],
   "source": []
  },
  {
   "cell_type": "code",
   "execution_count": null,
   "metadata": {},
   "outputs": [],
   "source": []
  },
  {
   "cell_type": "code",
   "execution_count": null,
   "metadata": {},
   "outputs": [],
   "source": []
  },
  {
   "cell_type": "code",
   "execution_count": null,
   "metadata": {},
   "outputs": [],
   "source": []
  },
  {
   "cell_type": "code",
   "execution_count": null,
   "metadata": {},
   "outputs": [],
   "source": []
  },
  {
   "cell_type": "code",
   "execution_count": null,
   "metadata": {},
   "outputs": [],
   "source": []
  },
  {
   "cell_type": "code",
   "execution_count": null,
   "metadata": {},
   "outputs": [],
   "source": []
  },
  {
   "cell_type": "code",
   "execution_count": null,
   "metadata": {},
   "outputs": [],
   "source": []
  },
  {
   "cell_type": "code",
   "execution_count": null,
   "metadata": {},
   "outputs": [],
   "source": []
  },
  {
   "cell_type": "code",
   "execution_count": null,
   "metadata": {},
   "outputs": [],
   "source": []
  },
  {
   "cell_type": "code",
   "execution_count": null,
   "metadata": {},
   "outputs": [],
   "source": []
  },
  {
   "cell_type": "code",
   "execution_count": null,
   "metadata": {},
   "outputs": [],
   "source": []
  }
 ],
 "metadata": {
  "kernelspec": {
   "display_name": "Python 3",
   "language": "python",
   "name": "python3"
  },
  "language_info": {
   "codemirror_mode": {
    "name": "ipython",
    "version": 3
   },
   "file_extension": ".py",
   "mimetype": "text/x-python",
   "name": "python",
   "nbconvert_exporter": "python",
   "pygments_lexer": "ipython3",
   "version": "3.8.5"
  }
 },
 "nbformat": 4,
 "nbformat_minor": 4
}
